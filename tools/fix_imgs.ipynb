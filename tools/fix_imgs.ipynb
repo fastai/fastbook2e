{
 "cells": [
  {
   "cell_type": "code",
   "execution_count": null,
   "id": "95f0bd9e",
   "metadata": {},
   "outputs": [],
   "source": [
    "from fastcore.all import *\n",
    "from execnb.nbio import *"
   ]
  },
  {
   "cell_type": "code",
   "execution_count": null,
   "id": "eb8bab58",
   "metadata": {},
   "outputs": [],
   "source": [
    "path = Path('../intro.ipynb')"
   ]
  },
  {
   "cell_type": "code",
   "execution_count": null,
   "id": "3e143458",
   "metadata": {},
   "outputs": [],
   "source": [
    "path = Path('../conclusion.ipynb')"
   ]
  },
  {
   "cell_type": "code",
   "execution_count": null,
   "id": "3a154e93",
   "metadata": {},
   "outputs": [],
   "source": [
    "nb = read_nb(path)"
   ]
  },
  {
   "cell_type": "code",
   "execution_count": null,
   "id": "d2027ba8",
   "metadata": {},
   "outputs": [],
   "source": [
    "from bs4 import BeautifulSoup\n",
    "from bs4.formatter import HTMLFormatter"
   ]
  },
  {
   "cell_type": "code",
   "execution_count": null,
   "id": "1cd1fcde",
   "metadata": {},
   "outputs": [
    {
     "data": {
      "text/plain": [
       "'Natural'"
      ]
     },
     "execution_count": null,
     "metadata": {},
     "output_type": "execute_result"
    }
   ],
   "source": [
    "b = BeautifulSoup('hi <img alt=\"Natural\" caption=\"artificial\" id=\"neuron\" src=\"images/chapter7.png\" width=\"500\"/>')\n",
    "im = b.img\n",
    "im['alt']"
   ]
  },
  {
   "cell_type": "code",
   "execution_count": null,
   "id": "3b56dd84",
   "metadata": {},
   "outputs": [],
   "source": [
    "def img2md(im):\n",
    "    r = '!['\n",
    "    a = im.get('caption', None)\n",
    "    if a: r+=a\n",
    "    r+=f']({im[\"src\"]}'\n",
    "    r+=')'\n",
    "    d = {}\n",
    "    a = im.get('width', None)\n",
    "    if a: d['width'] = a\n",
    "    a = im.get('id', None)\n",
    "    if a: d['id'] = a\n",
    "    a = im.get('alt', None)\n",
    "    if a: d['fig-alt'] = a\n",
    "    if d: r+='{' + ' '.join(f'{k}=\"{v}\"' for k,v in d.items()) + '}'\n",
    "    return r"
   ]
  },
  {
   "cell_type": "code",
   "execution_count": null,
   "id": "6c1de793",
   "metadata": {},
   "outputs": [],
   "source": [
    "class UnsortedAttributes(HTMLFormatter):\n",
    "    def attributes(self, tag): yield from tag.attrs.items()\n",
    "\n",
    "def enc(t): return t.encode_contents(formatter=UnsortedAttributes()).decode('utf-8')"
   ]
  },
  {
   "cell_type": "code",
   "execution_count": null,
   "id": "f786a856",
   "metadata": {},
   "outputs": [
    {
     "name": "stdout",
     "output_type": "stream",
     "text": [
      "![What to do next](images/att_00053.png){width=\"550\" id=\"do_next\" fig-alt=\"What to do next\"}\n"
     ]
    }
   ],
   "source": [
    "for c in nb.cells:\n",
    "    if c.cell_type=='markdown' and '<img ' in c.source:\n",
    "        b = BeautifulSoup(c.source)\n",
    "        im = b.img\n",
    "        im.replace_with(img2md(im))\n",
    "        o = b.body\n",
    "        if getattr(o,'p',None): o = o.p\n",
    "        print(enc(o))"
   ]
  },
  {
   "cell_type": "code",
   "execution_count": null,
   "id": "86551fc8",
   "metadata": {},
   "outputs": [],
   "source": []
  }
 ],
 "metadata": {
  "kernelspec": {
   "display_name": "Python 3 (ipykernel)",
   "language": "python",
   "name": "python3"
  }
 },
 "nbformat": 4,
 "nbformat_minor": 5
}
